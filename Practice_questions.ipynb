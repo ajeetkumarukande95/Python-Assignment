{
  "nbformat": 4,
  "nbformat_minor": 0,
  "metadata": {
    "colab": {
      "provenance": []
    },
    "kernelspec": {
      "name": "python3",
      "display_name": "Python 3"
    },
    "language_info": {
      "name": "python"
    }
  },
  "cells": [
    {
      "cell_type": "code",
      "execution_count": 4,
      "metadata": {
        "colab": {
          "base_uri": "https://localhost:8080/"
        },
        "id": "PGzU8ULE9tEm",
        "outputId": "6aa8aeff-9778-4efa-91de-a6c94657d392"
      },
      "outputs": [
        {
          "output_type": "stream",
          "name": "stdout",
          "text": [
            "6\n"
          ]
        }
      ],
      "source": [
        "st=\"asdfvb\"\n",
        "cnt=0\n",
        "for i in st:\n",
        "  cnt+=1\n",
        "\n",
        "print(cnt)"
      ]
    },
    {
      "cell_type": "code",
      "source": [
        "#  Write a program to check if the word 'orange' is present in the \"This is orange juice\".\n",
        "st=\"This is orange juice\"\n",
        "i=st.find('juice')\n",
        "print(i)\n",
        "if i!=-1:\n",
        "  print(\"yes prasent\")\n",
        "else:\n",
        "  print(\"not present\")"
      ],
      "metadata": {
        "colab": {
          "base_uri": "https://localhost:8080/"
        },
        "id": "8LEo7uR-97Oz",
        "outputId": "d39ac3ee-7cf6-45d9-cf11-dd992795aec8"
      },
      "execution_count": 12,
      "outputs": [
        {
          "output_type": "stream",
          "name": "stdout",
          "text": [
            "yes prasent\n"
          ]
        }
      ]
    },
    {
      "cell_type": "code",
      "source": [
        "st=\"This is orange juice\"\n",
        "if 'orange' in st:\n",
        "  print(\"yes\")"
      ],
      "metadata": {
        "colab": {
          "base_uri": "https://localhost:8080/"
        },
        "id": "CUWy0SnOOvm_",
        "outputId": "18484ff7-85ae-42e2-e843-66803cb7bd56"
      },
      "execution_count": 14,
      "outputs": [
        {
          "output_type": "stream",
          "name": "stdout",
          "text": [
            "yes\n"
          ]
        }
      ]
    },
    {
      "cell_type": "code",
      "source": [
        "# Q13. Write a program to find the number of vowels, consonants, digits, and white space characters in a string.\n",
        "string = 'Abcd KHF 5KFJG FRbfggbhIO45  645kv 498 h489ytrt 45 grkj'\n",
        "cnt_vowel=0\n",
        "cnt_consonent=0\n",
        "cnt_digit=0\n",
        "cnt_white_spaces=0\n",
        "for char in string:\n",
        "  if char in \"AEIOUaeiou\":\n",
        "    # print(\"vowels prasent\")\n",
        "    cnt_vowel+=1\n",
        "    # print(cnt_vowel)\n",
        "  elif char in \"0123456789\":\n",
        "    cnt_digit+=1\n",
        "  elif char not in 'AEIOUaeiou':\n",
        "    cnt_consonent+=1\n",
        "  elif char in \" \\t\\n\":\n",
        "    cnt_white_spaces+=1\n",
        "print(cnt_vowel,'\\n',cnt_consonent,'\\n',cnt_digit,'\\n',cnt_white_spaces)\n"
      ],
      "metadata": {
        "colab": {
          "base_uri": "https://localhost:8080/"
        },
        "id": "QKiYqP7NP4WR",
        "outputId": "ce71960c-3160-4dd9-892d-ab366a89fbac"
      },
      "execution_count": 27,
      "outputs": [
        {
          "output_type": "stream",
          "name": "stdout",
          "text": [
            "3 \n",
            " 38 \n",
            " 14 \n",
            " 0\n"
          ]
        }
      ]
    },
    {
      "cell_type": "code",
      "source": [
        "# Q25. Write a Python program to find the second most repeated word in a given string\n",
        "string = 'aa bb gg ss bb rr yy ff yy ee dd'\n",
        "string1=string.split()\n",
        "d={}\n",
        "for i in string1:\n",
        "  # print(i,string.count(i))\n",
        "  d[i]=string.count(i)\n",
        "l=[]\n",
        "for i in d.values():\n",
        "  l.append(i)\n",
        "l=sorted(l)\n",
        "for i in d.keys():\n",
        "  for j in l:\n",
        "    d[i] =j\n",
        "\n",
        "\n",
        "\n",
        "\n",
        "\n"
      ],
      "metadata": {
        "colab": {
          "base_uri": "https://localhost:8080/"
        },
        "id": "vcOU3OgvP_fw",
        "outputId": "f6b7dca8-5b87-44d7-eb9d-ccfcc32370d2"
      },
      "execution_count": 9,
      "outputs": [
        {
          "output_type": "execute_result",
          "data": {
            "text/plain": [
              "{'aa': 2,\n",
              " 'bb': 2,\n",
              " 'gg': 2,\n",
              " 'ss': 2,\n",
              " 'rr': 2,\n",
              " 'yy': 2,\n",
              " 'ff': 2,\n",
              " 'ee': 2,\n",
              " 'dd': 2}"
            ]
          },
          "metadata": {},
          "execution_count": 9
        }
      ]
    },
    {
      "cell_type": "code",
      "source": [
        "string = 'aa bb gg ss bb rr yy ff yy ee dd'\n",
        "words = string.split()\n",
        "word_counts = {}\n",
        "\n",
        "for word in words:\n",
        "  if word in word_counts:\n",
        "    word_counts[word] += 1\n",
        "  else:\n",
        "    word_counts[word] = 1\n",
        "word_counts\n",
        "\n",
        "\n"
      ],
      "metadata": {
        "colab": {
          "base_uri": "https://localhost:8080/"
        },
        "id": "s_NfZEInkWMx",
        "outputId": "d3a1a042-97e4-4dd3-8b2a-ec3247030d3d"
      },
      "execution_count": 10,
      "outputs": [
        {
          "output_type": "execute_result",
          "data": {
            "text/plain": [
              "{'aa': 1,\n",
              " 'bb': 2,\n",
              " 'gg': 1,\n",
              " 'ss': 1,\n",
              " 'rr': 1,\n",
              " 'yy': 2,\n",
              " 'ff': 1,\n",
              " 'ee': 1,\n",
              " 'dd': 1}"
            ]
          },
          "metadata": {},
          "execution_count": 10
        }
      ]
    },
    {
      "cell_type": "code",
      "source": [
        "sorted_word_counts=sorted(word_counts.items(),key=lambda x : x[1],reverse=True)\n",
        "second_most_repeated_word = None\n",
        "if len(sorted_word_counts)>=1:\n",
        "  second_most_repeated_word = sorted_word_counts[1][0]\n",
        "print(\"Second most repeated word:\", second_most_repeated_word)\n",
        "\n"
      ],
      "metadata": {
        "colab": {
          "base_uri": "https://localhost:8080/"
        },
        "id": "RXtfFA1LkWPF",
        "outputId": "5249f08c-ea3d-4a76-9725-3b59ccc3742b"
      },
      "execution_count": 11,
      "outputs": [
        {
          "output_type": "stream",
          "name": "stdout",
          "text": [
            "Second most repeated word: yy\n"
          ]
        }
      ]
    },
    {
      "cell_type": "code",
      "source": [
        "# Q26. Python program to Count Even and Odd numbers in a string\n",
        "str1=\"123456789\"\n",
        "even=0\n",
        "odd=0\n",
        "for i in str1:\n",
        "  if int(i) % 2 ==0:\n",
        "    even +=1\n",
        "    # print(\"even\",i)\n",
        "  else:\n",
        "    odd +=1\n",
        "    # print(\"odd\",i)\n",
        "print(\"even-count-->\",even,\"\\n\",\"odd-even-->\",odd)"
      ],
      "metadata": {
        "colab": {
          "base_uri": "https://localhost:8080/"
        },
        "id": "k5oMt2_wkWSa",
        "outputId": "064b167e-1db9-4624-c8a2-a57a7a230732"
      },
      "execution_count": 21,
      "outputs": [
        {
          "output_type": "stream",
          "name": "stdout",
          "text": [
            "even-count--> 4 \n",
            " odd-even--> 5\n"
          ]
        }
      ]
    },
    {
      "cell_type": "code",
      "source": [
        "# Q27. How do you check if a string contains only digits?\n"
      ],
      "metadata": {
        "id": "TOfC6O8oRPtj"
      },
      "execution_count": 31,
      "outputs": []
    },
    {
      "cell_type": "code",
      "source": [
        "string = 'ifgb98 j8u (*&hifd78 IHigt)'\n",
        "contains_only_digits = string.isdigit()\n",
        "\n",
        "print(\"Does the string contain only digits?\", contains_only_digits)"
      ],
      "metadata": {
        "colab": {
          "base_uri": "https://localhost:8080/"
        },
        "id": "da6AljimRPvp",
        "outputId": "64ee9666-1fdc-414d-cfdd-115911ff8dfe"
      },
      "execution_count": 28,
      "outputs": [
        {
          "output_type": "stream",
          "name": "stdout",
          "text": [
            "Does the string contain only digits? False\n"
          ]
        }
      ]
    },
    {
      "cell_type": "code",
      "source": [
        "string = 'ifgb98 j8u (*&hifd78 IHigt)'\n",
        "d = {}\n",
        "for i in string:\n",
        "    if i.isdigit():\n",
        "        if i in d:\n",
        "            d[i] += 1\n",
        "        else:\n",
        "            d[i] = 1\n",
        "d"
      ],
      "metadata": {
        "colab": {
          "base_uri": "https://localhost:8080/"
        },
        "id": "eTDC5YXuRPxY",
        "outputId": "d63b9ae5-5b07-495f-aae2-542fad7dcedc"
      },
      "execution_count": 30,
      "outputs": [
        {
          "output_type": "execute_result",
          "data": {
            "text/plain": [
              "{'9': 1, '8': 3, '7': 1}"
            ]
          },
          "metadata": {},
          "execution_count": 30
        }
      ]
    },
    {
      "cell_type": "code",
      "source": [
        "# Q28. How do you remove a given character/word from String?\n",
        "string.replace(char,\"\")\n"
      ],
      "metadata": {
        "id": "JmQZMd0ZRP0_"
      },
      "execution_count": null,
      "outputs": []
    },
    {
      "cell_type": "code",
      "source": [
        "string = 'Remove the characters which have odd index values of a given string'\n",
        "new_string = ''\n",
        "\n",
        "for i in range(len(string)):\n",
        "    if i % 2 == 0:\n",
        "        new_string += string[i]\n",
        "\n",
        "print(new_string)"
      ],
      "metadata": {
        "colab": {
          "base_uri": "https://localhost:8080/"
        },
        "id": "6lhc4LtVWiGP",
        "outputId": "f6022556-c459-443c-910b-100ce79c69b6"
      },
      "execution_count": 37,
      "outputs": [
        {
          "output_type": "stream",
          "name": "stdout",
          "text": [
            "Rmv h hrceswihhv d ne auso  ie tig\n"
          ]
        }
      ]
    },
    {
      "cell_type": "code",
      "source": [
        "# Q29. Write a Python program to remove the characters which have odd index values of a given string\n",
        "string = 'Remove the characters which have odd index values of a given string'\n",
        "new_string = ''\n",
        "for i in range(len(string)):\n",
        "  if i%2 == 0:\n",
        "    new_string +=string[i]\n",
        "\n",
        "string"
      ],
      "metadata": {
        "colab": {
          "base_uri": "https://localhost:8080/",
          "height": 35
        },
        "id": "wM9qRWJ1RP49",
        "outputId": "929df18a-3c49-4d97-b7ea-49aa0b84a5ae"
      },
      "execution_count": 38,
      "outputs": [
        {
          "output_type": "execute_result",
          "data": {
            "text/plain": [
              "'Remove the characters which have odd index values of a given string'"
            ],
            "application/vnd.google.colaboratory.intrinsic+json": {
              "type": "string"
            }
          },
          "metadata": {},
          "execution_count": 38
        }
      ]
    },
    {
      "cell_type": "code",
      "source": [
        "string = 'Remove the characters which have odd index values of a given string'\n",
        "new_string = ''\n",
        "for i in range(len(string)):\n",
        "  if i%2 == 0:\n",
        "    new_string = new_string + string[i]\n",
        "\n",
        "new_string"
      ],
      "metadata": {
        "colab": {
          "base_uri": "https://localhost:8080/",
          "height": 35
        },
        "id": "p23w7SaVRP8m",
        "outputId": "9e4b7486-efe7-4b8f-9fe1-a8044a28a685"
      },
      "execution_count": 39,
      "outputs": [
        {
          "output_type": "execute_result",
          "data": {
            "text/plain": [
              "'Rmv h hrceswihhv d ne auso  ie tig'"
            ],
            "application/vnd.google.colaboratory.intrinsic+json": {
              "type": "string"
            }
          },
          "metadata": {},
          "execution_count": 39
        }
      ]
    },
    {
      "cell_type": "code",
      "source": [
        "# Q30. Write a Python function to reverses a string if its length is a multiple of 5\n",
        "string='asdfghjertyjsdfgh'\n",
        "print(len(string))\n",
        "if len(string)%5==0:\n",
        "\n",
        "  string=string[::-1]\n",
        "string"
      ],
      "metadata": {
        "colab": {
          "base_uri": "https://localhost:8080/",
          "height": 53
        },
        "id": "aY-H4CfmRP_d",
        "outputId": "4b2007ab-c5f9-45e2-f502-1c2fc564a9c3"
      },
      "execution_count": 43,
      "outputs": [
        {
          "output_type": "stream",
          "name": "stdout",
          "text": [
            "17\n"
          ]
        },
        {
          "output_type": "execute_result",
          "data": {
            "text/plain": [
              "'asdfghjertyjsdfgh'"
            ],
            "application/vnd.google.colaboratory.intrinsic+json": {
              "type": "string"
            }
          },
          "metadata": {},
          "execution_count": 43
        }
      ]
    },
    {
      "cell_type": "code",
      "source": [
        "# Q31. Write a Python program to format a number with a percentage(0.05 >> 5%)\n",
        "a=0.75\n",
        "# print('{}%'.format(a))\n",
        "print('{:.0%}'.format(a))\n",
        "\n",
        "# print(a*100)"
      ],
      "metadata": {
        "colab": {
          "base_uri": "https://localhost:8080/"
        },
        "id": "PrdhL9U0RQC-",
        "outputId": "0da54528-f495-4f8d-d85b-4d205f3e5333"
      },
      "execution_count": 59,
      "outputs": [
        {
          "output_type": "stream",
          "name": "stdout",
          "text": [
            "75%\n"
          ]
        }
      ]
    },
    {
      "cell_type": "code",
      "source": [
        "# Q32. Write a Python program to reverse words in a string\n",
        "string = 'You are a good boy'\n",
        "str1=''\n",
        "l=string.split()\n",
        "for i in range(len(l)):\n",
        "  # You, are, a\n",
        "  str1=str1 +' '+ l[i][::-1]\n",
        "\n",
        "str1\n"
      ],
      "metadata": {
        "colab": {
          "base_uri": "https://localhost:8080/",
          "height": 35
        },
        "id": "ifHHKlHPkWr_",
        "outputId": "091ea259-a397-44f5-ca27-5517b7a4a5ef"
      },
      "execution_count": 82,
      "outputs": [
        {
          "output_type": "execute_result",
          "data": {
            "text/plain": [
              "' uoY era a doog yob'"
            ],
            "application/vnd.google.colaboratory.intrinsic+json": {
              "type": "string"
            }
          },
          "metadata": {},
          "execution_count": 82
        }
      ]
    },
    {
      "cell_type": "code",
      "source": [],
      "metadata": {
        "id": "Xu-gopkPkWu3"
      },
      "execution_count": null,
      "outputs": []
    },
    {
      "cell_type": "code",
      "source": [
        "# Q32. Write a Python program to reverse words in a string\n",
        "string = 'You are a good boy'\n",
        "str1=''\n",
        "l=string.split()\n",
        "for i in range(len(l)):\n",
        "  # You, are, a\n",
        "  l[i]=l[i][::-1]\n",
        "string=' '.join(l)\n",
        "\n",
        "string"
      ],
      "metadata": {
        "colab": {
          "base_uri": "https://localhost:8080/",
          "height": 35
        },
        "id": "qSuSlmP9kWyc",
        "outputId": "6917d0a4-2487-44c3-b95a-2abd5cc74317"
      },
      "execution_count": 83,
      "outputs": [
        {
          "output_type": "execute_result",
          "data": {
            "text/plain": [
              "'uoY era a doog yob'"
            ],
            "application/vnd.google.colaboratory.intrinsic+json": {
              "type": "string"
            }
          },
          "metadata": {},
          "execution_count": 83
        }
      ]
    },
    {
      "cell_type": "code",
      "source": [
        "# Q33. Write a Python program to swap cases of a given string\n",
        "string='asdfghjAERTYUK'\n",
        "string=string.swapcase()\n",
        "\n",
        "string"
      ],
      "metadata": {
        "colab": {
          "base_uri": "https://localhost:8080/",
          "height": 35
        },
        "id": "fKlEyFWBkW6T",
        "outputId": "2825fd0a-d374-40af-d0fd-d9271cb0e1e3"
      },
      "execution_count": 91,
      "outputs": [
        {
          "output_type": "execute_result",
          "data": {
            "text/plain": [
              "'ASDFGHJaertyuk'"
            ],
            "application/vnd.google.colaboratory.intrinsic+json": {
              "type": "string"
            }
          },
          "metadata": {},
          "execution_count": 91
        }
      ]
    },
    {
      "cell_type": "code",
      "source": [
        "# Q34. Write a Python program to remove spaces from a given string\n",
        "# string.strip()\n",
        "string.replace(' ','')\n"
      ],
      "metadata": {
        "colab": {
          "base_uri": "https://localhost:8080/",
          "height": 35
        },
        "id": "xbfYUixOkW9g",
        "outputId": "7292329f-4285-478b-cd92-3fa2e6d980ce"
      },
      "execution_count": 92,
      "outputs": [
        {
          "output_type": "execute_result",
          "data": {
            "text/plain": [
              "'ASDFGHJaertyuk'"
            ],
            "application/vnd.google.colaboratory.intrinsic+json": {
              "type": "string"
            }
          },
          "metadata": {},
          "execution_count": 92
        }
      ]
    },
    {
      "cell_type": "code",
      "source": [
        "# Q35. Write a Python program to remove duplicate characters of a given string\n",
        "string = 'TThis is JOhn used to remove spaces from string.'\n",
        "l=[]\n",
        "for i in string:\n",
        "  # T,h,i,s\n",
        "  if i not in new_string:\n",
        "    l.append(i)\n",
        "    l=' '.join(i)\n",
        "l"
      ],
      "metadata": {
        "colab": {
          "base_uri": "https://localhost:8080/"
        },
        "id": "myu9Qz_JkXBN",
        "outputId": "be1e7893-db7d-4439-edeb-1406f0fa0dee"
      },
      "execution_count": 97,
      "outputs": [
        {
          "output_type": "execute_result",
          "data": {
            "text/plain": [
              "[]"
            ]
          },
          "metadata": {},
          "execution_count": 97
        }
      ]
    },
    {
      "cell_type": "code",
      "source": [
        "# Q35. Write a Python program to remove duplicate characters of a given string\n",
        "string = 'TThis is JOhn used to remove spaces from string.'\n",
        "new_string=''\n",
        "for i in string:\n",
        "  if i not in new_string:\n",
        "    new_string += i\n",
        "new_string\n"
      ],
      "metadata": {
        "colab": {
          "base_uri": "https://localhost:8080/",
          "height": 35
        },
        "id": "3-28Ks_XkXNc",
        "outputId": "cbffb321-dc78-429c-b218-b5ade1f85f6c"
      },
      "execution_count": 98,
      "outputs": [
        {
          "output_type": "execute_result",
          "data": {
            "text/plain": [
              "'This JOnuedtormvpacfg.'"
            ],
            "application/vnd.google.colaboratory.intrinsic+json": {
              "type": "string"
            }
          },
          "metadata": {},
          "execution_count": 98
        }
      ]
    },
    {
      "cell_type": "code",
      "source": [
        "string = 'TThis is JOhn used to remove spaces from string.'\n",
        "new_string = ''\n",
        "\n",
        "for char in string:\n",
        "    if char not in new_string:\n",
        "        new_string += char\n",
        "\n",
        "print(new_string)"
      ],
      "metadata": {
        "colab": {
          "base_uri": "https://localhost:8080/"
        },
        "id": "ku9kfRt1kXQd",
        "outputId": "521da544-8226-41f1-dc5f-a09bf03ecb08"
      },
      "execution_count": 99,
      "outputs": [
        {
          "output_type": "stream",
          "name": "stdout",
          "text": [
            "This JOnuedtormvpacfg.\n"
          ]
        }
      ]
    },
    {
      "cell_type": "code",
      "source": [
        "# Q36. Write a Python Program to find the area of a circle\n",
        "\n",
        "def area(r):\n",
        "    area_of_circle=3.14*r*r\n",
        "    return area_of_circle\n",
        "a=area(5)\n",
        "print(a)"
      ],
      "metadata": {
        "colab": {
          "base_uri": "https://localhost:8080/"
        },
        "id": "NUOHmSAhuY47",
        "outputId": "97004c73-8e3d-4eae-d69f-8d3ee54d5c5e"
      },
      "execution_count": 102,
      "outputs": [
        {
          "output_type": "stream",
          "name": "stdout",
          "text": [
            "78.5\n"
          ]
        }
      ]
    },
    {
      "cell_type": "code",
      "source": [
        "# Q37. Python Program to find Sum of squares of first n natural numbers\n",
        "# n=n*(n+1)//2\n",
        "def sum_of_square(n):\n",
        "  a=n*(n+1)//2\n",
        "  return a\n",
        "b=sum_of_square(6)\n",
        "b"
      ],
      "metadata": {
        "colab": {
          "base_uri": "https://localhost:8080/"
        },
        "id": "JMMwV3NXuY7a",
        "outputId": "0e4d5f52-88f8-4272-9adb-39905874c873"
      },
      "execution_count": 105,
      "outputs": [
        {
          "output_type": "execute_result",
          "data": {
            "text/plain": [
              "21"
            ]
          },
          "metadata": {},
          "execution_count": 105
        }
      ]
    },
    {
      "cell_type": "code",
      "source": [
        "# Q38. Python Program to find cube sum of first n natural numbers\n"
      ],
      "metadata": {
        "id": "7UW1WJiRuY9M"
      },
      "execution_count": null,
      "outputs": []
    },
    {
      "cell_type": "code",
      "source": [
        "# Q39.Python Program to find simple interest and compound interest\n",
        "# simple_intr = (P*T*R)/100\n",
        "simple_intr =(P*R*T)/100\n",
        "compound_intr = P *(1 + n/r)**(n*t)\n",
        "\n"
      ],
      "metadata": {
        "id": "AlA25K9buY_B"
      },
      "execution_count": null,
      "outputs": []
    },
    {
      "cell_type": "code",
      "source": [
        "# Q40. Python program to check whether a number is Prime or not\n",
        "num_list=[1,2,345,45,6,7,4,3,2,7,8,9]\n",
        "# # prime number i.e. number % 1, or number % by number\n",
        "# for n in num_list:\n",
        "#   # 1,2,345\n",
        "#   for i in range(2,len(num_list)):\n",
        "#     # 2,3,345\n",
        "#     if n % i == 0 or n % i == n:\n",
        "#       print(\"num is prime\",i)\n",
        "\n",
        "\n",
        ""
      ],
      "metadata": {
        "id": "3-fjQ55VuZBF"
      },
      "execution_count": 120,
      "outputs": []
    },
    {
      "cell_type": "code",
      "source": [
        "num=4\n",
        "for i in range(2,n):\n",
        "  if num % i == 0:\n",
        "    print(\"not prime no\",num)\n",
        "else:\n",
        "  print(\"prime no\",num)"
      ],
      "metadata": {
        "colab": {
          "base_uri": "https://localhost:8080/"
        },
        "id": "dJWTT2-GuZEh",
        "outputId": "4efdf6a1-728c-4caa-869f-49802a82ca98"
      },
      "execution_count": 126,
      "outputs": [
        {
          "output_type": "stream",
          "name": "stdout",
          "text": [
            "not prime no 4\n",
            "not prime no 4\n",
            "prime no 4\n"
          ]
        }
      ]
    },
    {
      "cell_type": "code",
      "source": [
        "num = 7\n",
        "num = 16\n",
        "num = 9\n",
        "num = 15\n",
        "num = 19\n"
      ],
      "metadata": {
        "id": "AWsl3tCFkXU3"
      },
      "execution_count": null,
      "outputs": []
    },
    {
      "cell_type": "code",
      "source": [
        "num / 1,num /num---> prime no\n"
      ],
      "metadata": {
        "id": "-Fw1dAiUkXYG"
      },
      "execution_count": null,
      "outputs": []
    },
    {
      "cell_type": "code",
      "source": [
        "# prime no- if num is divisible by only 1 and number itself is called as prime number\n",
        "\n",
        ""
      ],
      "metadata": {
        "id": "ujfzQzV06X3l"
      },
      "execution_count": null,
      "outputs": []
    },
    {
      "cell_type": "code",
      "source": [
        "l=[1,2,3,4,5,6,7,8,9]\n",
        "for num in l:\n",
        "  for i in range(2,len(l)):\n",
        "    if num % i == 0:\n",
        "      print(\"not prime\",num)\n",
        "      break\n",
        "  else:\n",
        "    print(\"Num is prime\",num)\n",
        "\n",
        "\n",
        ""
      ],
      "metadata": {
        "colab": {
          "base_uri": "https://localhost:8080/"
        },
        "id": "V3iIITK0BmkY",
        "outputId": "e915c1a8-12c8-4beb-b975-f87e23525b58"
      },
      "execution_count": 132,
      "outputs": [
        {
          "output_type": "stream",
          "name": "stdout",
          "text": [
            "Num is prime 1\n",
            "not prime 2\n",
            "not prime 3\n",
            "not prime 4\n",
            "not prime 5\n",
            "not prime 6\n",
            "not prime 7\n",
            "not prime 8\n",
            "not prime 9\n"
          ]
        }
      ]
    },
    {
      "cell_type": "code",
      "source": [
        "num=77\n",
        "for i in range(2,num):\n",
        "  if num % i == 0:\n",
        "    print(num,\"not prime\")\n",
        "    break\n",
        "else:\n",
        "  print(\"no is prime number\")"
      ],
      "metadata": {
        "colab": {
          "base_uri": "https://localhost:8080/"
        },
        "id": "pN6t4zj1Bmmi",
        "outputId": "b4712b5a-b67e-48ad-bb2c-a81f5fb38716"
      },
      "execution_count": 137,
      "outputs": [
        {
          "output_type": "stream",
          "name": "stdout",
          "text": [
            "77 not prime\n"
          ]
        }
      ]
    },
    {
      "cell_type": "code",
      "source": [
        "#Q4. Python Program to find the largest element in the list.\n",
        "l=[1,3,2,5,6,8]\n",
        "largest = l[0]\n",
        "for i in l:\n",
        "  if largest < i:\n",
        "    largest = i\n",
        "largest\n",
        "\n",
        "\n",
        "\n",
        ""
      ],
      "metadata": {
        "colab": {
          "base_uri": "https://localhost:8080/"
        },
        "id": "3g6x7p32Bmob",
        "outputId": "53b8dcdf-6882-420d-f523-ce97cf033fcd"
      },
      "execution_count": 141,
      "outputs": [
        {
          "output_type": "execute_result",
          "data": {
            "text/plain": [
              "8"
            ]
          },
          "metadata": {},
          "execution_count": 141
        }
      ]
    },
    {
      "cell_type": "code",
      "source": [
        "# Q5. Python program to interchange first and last elements in a list.\n",
        "l=[1,2,3,4,5,6,7,8,9]\n",
        "l_0=l[0]\n",
        "l_1=l[-1]\n",
        "# for i in l:\n",
        "#   print(i)\n",
        "\n"
      ],
      "metadata": {
        "id": "GOUzYkd-Bmrx"
      },
      "execution_count": 143,
      "outputs": []
    },
    {
      "cell_type": "code",
      "source": [
        "l=[1,2,3,4,5,6,7,8,9]\n",
        "def reverse_index(l):\n",
        "  l[0],l[-1]=l[-1],l[0]\n",
        "  return l\n",
        "res=reverse_index(l)\n",
        "print(res)\n",
        "\n"
      ],
      "metadata": {
        "colab": {
          "base_uri": "https://localhost:8080/"
        },
        "id": "Eisn4C4PBmu6",
        "outputId": "ea226ca6-65e1-4430-d726-6fb0cfe5ac47"
      },
      "execution_count": 144,
      "outputs": [
        {
          "output_type": "stream",
          "name": "stdout",
          "text": [
            "[9, 2, 3, 4, 5, 6, 7, 8, 1]\n"
          ]
        }
      ]
    },
    {
      "cell_type": "code",
      "source": [
        "# Q6. Python program to swap two elements in a list.\n",
        "\n",
        "l=[1,2,3,4,5,6,7,8,9]\n",
        "def swap_index(x,y):\n",
        "  l[x],l[y] = l[y],l[x]\n",
        "  return l\n",
        "print(swap_index(0,1))\n",
        "\n",
        "# l = [1, 2, 3, 4, 5, 6, 7, 8, 9]\n",
        "\n",
        "# def swap_index(x, y):\n",
        "#     l[x], l[y] = l[y], l[x]\n",
        "#     return l\n",
        "\n",
        "# print(swap_index(0, 1))\n",
        "\n"
      ],
      "metadata": {
        "colab": {
          "base_uri": "https://localhost:8080/"
        },
        "id": "Es1g6G5JkXbe",
        "outputId": "dfb5098f-c897-45bb-98c3-9516bb6944c7"
      },
      "execution_count": 149,
      "outputs": [
        {
          "output_type": "stream",
          "name": "stdout",
          "text": [
            "[2, 1, 3, 4, 5, 6, 7, 8, 9]\n"
          ]
        }
      ]
    },
    {
      "cell_type": "code",
      "source": [
        "# Q7. Python program to Reverse a List\n",
        "l[::-1]"
      ],
      "metadata": {
        "colab": {
          "base_uri": "https://localhost:8080/"
        },
        "id": "JpqtOOtxb_f7",
        "outputId": "48021538-7b22-472f-de35-efa06992b12c"
      },
      "execution_count": 151,
      "outputs": [
        {
          "output_type": "execute_result",
          "data": {
            "text/plain": [
              "[9, 8, 7, 6, 5, 4, 3, 1, 2]"
            ]
          },
          "metadata": {},
          "execution_count": 151
        }
      ]
    },
    {
      "cell_type": "code",
      "source": [
        "def reverse_list(lst):\n",
        "  return lst[::-1]\n",
        "reverse_list([1,2,3,4,5,6,7,8,9])"
      ],
      "metadata": {
        "colab": {
          "base_uri": "https://localhost:8080/"
        },
        "id": "z7fCHWNGP_iD",
        "outputId": "5361950c-66d7-4b73-d36f-487df4e06baa"
      },
      "execution_count": 153,
      "outputs": [
        {
          "output_type": "execute_result",
          "data": {
            "text/plain": [
              "[9, 8, 7, 6, 5, 4, 3, 2, 1]"
            ]
          },
          "metadata": {},
          "execution_count": 153
        }
      ]
    },
    {
      "cell_type": "code",
      "source": [
        "# Q8. Python program to count occurrences of an element in a list\n",
        "l=[1,2,1,3,3,4,5,6,5,7,8,9,10,2,3,4,5,7,1,1,2,1,2,1,3,4,2,1,1,2,3,8]\n",
        "d={}\n",
        "for i in l:\n",
        "  d[i] = l.count(i)\n",
        "d"
      ],
      "metadata": {
        "colab": {
          "base_uri": "https://localhost:8080/"
        },
        "id": "mTpTQlzgP_ka",
        "outputId": "5796a821-d63c-4609-a04a-d8abbc0e8b51"
      },
      "execution_count": 155,
      "outputs": [
        {
          "output_type": "execute_result",
          "data": {
            "text/plain": [
              "{1: 8, 2: 6, 3: 5, 4: 3, 5: 3, 6: 1, 7: 2, 8: 2, 9: 1, 10: 1}"
            ]
          },
          "metadata": {},
          "execution_count": 155
        }
      ]
    },
    {
      "cell_type": "code",
      "source": [
        "# Q9. Python program to find the sum of elements in a list\n",
        "# sum(l)\n",
        "x=lambda x : sum(x)\n",
        "x(l)"
      ],
      "metadata": {
        "colab": {
          "base_uri": "https://localhost:8080/"
        },
        "id": "VS4vUmt3P_nV",
        "outputId": "6338ca3e-fc2d-4201-92ea-713c94d832fa"
      },
      "execution_count": 157,
      "outputs": [
        {
          "output_type": "execute_result",
          "data": {
            "text/plain": [
              "117"
            ]
          },
          "metadata": {},
          "execution_count": 157
        }
      ]
    },
    {
      "cell_type": "code",
      "source": [
        "# Q10. Python program to Multiply all numbers in the list\n",
        "product = 1\n",
        "for num in [1,2,3]:\n",
        "  product *= num\n",
        "product"
      ],
      "metadata": {
        "colab": {
          "base_uri": "https://localhost:8080/"
        },
        "id": "Y0AtPZUsP_qv",
        "outputId": "47c3c9f7-6adb-45a3-afbd-5be43a9af892"
      },
      "execution_count": 164,
      "outputs": [
        {
          "output_type": "execute_result",
          "data": {
            "text/plain": [
              "6"
            ]
          },
          "metadata": {},
          "execution_count": 164
        }
      ]
    },
    {
      "cell_type": "code",
      "source": [
        "# Q11. What are the ways to find the length of a list\n",
        "cnt=0\n",
        "for i in [1,2,3,4,5,6,7]:\n",
        "  cnt +=1\n",
        "cnt"
      ],
      "metadata": {
        "colab": {
          "base_uri": "https://localhost:8080/"
        },
        "id": "3BHpMGbfg0JD",
        "outputId": "11d9c9d3-07e6-41c8-cff4-e4c7b17c3ca3"
      },
      "execution_count": 167,
      "outputs": [
        {
          "output_type": "execute_result",
          "data": {
            "text/plain": [
              "7"
            ]
          },
          "metadata": {},
          "execution_count": 167
        }
      ]
    },
    {
      "cell_type": "code",
      "source": [],
      "metadata": {
        "id": "CNKYDUbpjQOv"
      },
      "execution_count": null,
      "outputs": []
    }
  ]
}